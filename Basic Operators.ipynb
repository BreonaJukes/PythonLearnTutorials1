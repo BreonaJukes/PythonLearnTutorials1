{
 "cells": [
  {
   "cell_type": "code",
   "execution_count": 1,
   "id": "2ae8ce90",
   "metadata": {},
   "outputs": [
    {
     "name": "stdout",
     "output_type": "stream",
     "text": [
      "x_list contains 10 objects\n",
      "y_list contains 10 objects\n",
      "big_list contains 20 objects\n",
      "Almost there...\n",
      "Great!\n"
     ]
    }
   ],
   "source": [
    "#this makes x and y into objects to go into a list\n",
    "x = object()\n",
    "y = object()\n",
    "\n",
    "#this multiplies the x's and y's by 10, so there's 10 of them\n",
    "x_list = [x] * 10\n",
    "y_list = [y] * 10\n",
    "#this line adds the x and y lists together in another list\n",
    "big_list = x_list + y_list\n",
    "\n",
    "#this prints the number of objects in each list\n",
    "print(\"x_list contains %d objects\" % len(x_list))\n",
    "print(\"y_list contains %d objects\" % len(y_list))\n",
    "print(\"big_list contains %d objects\" % len(big_list))\n",
    "\n",
    "#this is an if statement to print \"almost there\" and \"great\" if\n",
    "#the x and y lists have 10 objects in them\n",
    "if x_list.count(x) == 10 and y_list.count(y) == 10:\n",
    "    print(\"Almost there...\")\n",
    "if big_list.count(x) == 10 and big_list.count(y) == 10:\n",
    "    print(\"Great!\")"
   ]
  },
  {
   "cell_type": "code",
   "execution_count": null,
   "id": "fe1f63a0",
   "metadata": {},
   "outputs": [],
   "source": []
  }
 ],
 "metadata": {
  "kernelspec": {
   "display_name": "Python 3 (ipykernel)",
   "language": "python",
   "name": "python3"
  },
  "language_info": {
   "codemirror_mode": {
    "name": "ipython",
    "version": 3
   },
   "file_extension": ".py",
   "mimetype": "text/x-python",
   "name": "python",
   "nbconvert_exporter": "python",
   "pygments_lexer": "ipython3",
   "version": "3.9.7"
  }
 },
 "nbformat": 4,
 "nbformat_minor": 5
}
