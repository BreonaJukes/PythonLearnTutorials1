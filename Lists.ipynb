{
 "cells": [
  {
   "cell_type": "code",
   "execution_count": 1,
   "id": "7606ce7a",
   "metadata": {},
   "outputs": [
    {
     "name": "stdout",
     "output_type": "stream",
     "text": [
      "[1, 2, 3]\n",
      "['hello', 'world']\n",
      "The second name on the names list is Eric\n"
     ]
    }
   ],
   "source": [
    "#this is where you make the lists\n",
    "numbers = []\n",
    "strings = []\n",
    "names = [\"John\", \"Eric\", \"Jessica\"]\n",
    "\n",
    "#this section is appending data to the empty lists\n",
    "numbers.append(1)\n",
    "numbers.append(2)\n",
    "numbers.append(3)\n",
    "\n",
    "strings.append(\"hello\")\n",
    "strings.append(\"world\")\n",
    "\n",
    "#this line is assigning second_name to the second name in the names lists\n",
    "second_name = names[1]\n",
    "\n",
    "#this section prints everything out\n",
    "print(numbers)\n",
    "print(strings)\n",
    "print(\"The second name on the names list is %s\" % second_name)"
   ]
  },
  {
   "cell_type": "code",
   "execution_count": null,
   "id": "90b872df",
   "metadata": {},
   "outputs": [],
   "source": []
  }
 ],
 "metadata": {
  "kernelspec": {
   "display_name": "Python 3 (ipykernel)",
   "language": "python",
   "name": "python3"
  },
  "language_info": {
   "codemirror_mode": {
    "name": "ipython",
    "version": 3
   },
   "file_extension": ".py",
   "mimetype": "text/x-python",
   "name": "python",
   "nbconvert_exporter": "python",
   "pygments_lexer": "ipython3",
   "version": "3.9.7"
  }
 },
 "nbformat": 4,
 "nbformat_minor": 5
}
